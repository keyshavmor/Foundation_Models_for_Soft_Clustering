{
 "cells": [
  {
   "cell_type": "code",
   "execution_count": 1,
   "metadata": {},
   "outputs": [],
   "source": [
    "import sys\n",
    "sys.path.insert(0, \"../\")\n",
    "import scanpy as sc\n",
    "from model.embedding import embed"
   ]
  },
  {
   "cell_type": "code",
   "execution_count": 2,
   "metadata": {},
   "outputs": [],
   "source": [
    "model_dir = \"../assets/\"\n",
    "adata_path = \"../data/NB.bone.Met_preprocessed.h5ad\" # INSERT the path to your anndata object here\n",
    "\n",
    "adata = sc.read_h5ad(adata_path)\n",
    "batch_key = \"sample\" # The batch identity is used for highly variable gene selection\n",
    "bio_key = \"subtype\""
   ]
  },
  {
   "cell_type": "code",
   "execution_count": 3,
   "metadata": {},
   "outputs": [
    {
     "name": "stdout",
     "output_type": "stream",
     "text": [
      "WARNING: CUDA is not available. Using CPU instead.\n"
     ]
    },
    {
     "name": "stderr",
     "output_type": "stream",
     "text": [
      "/Users/matinurdu/Desktop/ETH_Zürich/FS25/Foundation_models_NB/.venv/lib/python3.9/site-packages/scanpy/preprocessing/_highly_variable_genes.py:696: ImplicitModificationWarning: Trying to modify attribute `._uns` of view, initializing view as actual.\n",
      "  adata.uns[\"hvg\"] = {\"flavor\": flavor}\n",
      "/Users/matinurdu/Desktop/ETH_Zürich/FS25/Foundation_models_NB/notebooks/../model/embedding.py:66: ImplicitModificationWarning: Trying to modify attribute `.var` of view, initializing view as actual.\n",
      "  adata.var[\"genes\"] = adata.var.index\n",
      "/Users/matinurdu/Desktop/ETH_Zürich/FS25/Foundation_models_NB/.venv/lib/python3.9/site-packages/torch/amp/autocast_mode.py:250: UserWarning: User provided device_type of 'cuda', but CUDA is not available. Disabling\n",
      "  warnings.warn(\n",
      "Embedding cells:   0%|          | 0/575 [00:00<?, ?it/s]/Users/matinurdu/Desktop/ETH_Zürich/FS25/Foundation_models_NB/.venv/lib/python3.9/site-packages/torch/nn/modules/transformer.py:384: UserWarning: The PyTorch API of nested tensors is in prototype stage and will change in the near future. (Triggered internally at /Users/runner/work/pytorch/pytorch/pytorch/aten/src/ATen/NestedTensorImpl.cpp:179.)\n",
      "  output = torch._nested_tensor_from_mask(output, src_key_padding_mask.logical_not(), mask_check=False)\n",
      "Embedding cells:   3%|▎         | 18/575 [03:14<1:30:51,  9.79s/it]"
     ]
    }
   ],
   "source": [
    "embed_adata = embed(\n",
    "    adata_or_file=adata,\n",
    "    model_dir=model_dir,\n",
    "    batch_key=batch_key,\n",
    "    batch_size=64,\n",
    ")\n"
   ]
  },
  {
   "cell_type": "code",
   "execution_count": null,
   "metadata": {},
   "outputs": [],
   "source": [
    "sc.pp.neighbors(embed_adata, use_rep=\"CancerGPT\")\n",
    "sc.tl.umap(embed_adata)\n",
    "fig = sc.pl.umap(embed_adata,\n",
    "                 color=[bio_key],\n",
    "                 frameon=False,\n",
    "                 palette=sc.pl.palettes.default_20,\n",
    "                 legend_loc=None,\n",
    "                 return_fig=True,\n",
    "                 title=[\"Subtype\"])"
   ]
  }
 ],
 "metadata": {
  "kernelspec": {
   "display_name": "cancergpt2",
   "language": "python",
   "name": "python3"
  },
  "language_info": {
   "codemirror_mode": {
    "name": "ipython",
    "version": 3
   },
   "file_extension": ".py",
   "mimetype": "text/x-python",
   "name": "python",
   "nbconvert_exporter": "python",
   "pygments_lexer": "ipython3",
   "version": "3.9.21"
  }
 },
 "nbformat": 4,
 "nbformat_minor": 2
}
