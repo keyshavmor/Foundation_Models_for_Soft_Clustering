{
 "cells": [
  {
   "cell_type": "code",
   "execution_count": 2,
   "metadata": {},
   "outputs": [],
   "source": [
    "import scanpy as sc\n",
    "import numpy as np\n",
    "import warnings\n",
    "warnings.filterwarnings(\"ignore\")\n",
    "\n",
    "from scimilarity.utils import lognorm_counts, align_dataset, get_centroid\n",
    "from scimilarity import CellEmbedding, CellQuery\n",
    "import os\n",
    "random_seed = 42\n",
    "np.random.seed(random_seed)\n",
    "\n",
    "import pandas as pd\n",
    "\n",
    "sc.set_figure_params(dpi=100)"
   ]
  },
  {
   "cell_type": "code",
   "execution_count": null,
   "metadata": {},
   "outputs": [],
   "source": [
    "# Instantiate the CellQuery object\n",
    "# Set model_path to the location of the uncompressed model\n",
    "model_path = \"/home/nicolas/Documents/ai-center-project/models/model_v1.1\"\n",
    "cq = CellQuery(model_path)"
   ]
  },
  {
   "cell_type": "code",
   "execution_count": 3,
   "metadata": {},
   "outputs": [
    {
     "name": "stdout",
     "output_type": "stream",
     "text": [
      "Data cell 1: cell_ID\n",
      "NBBM1_AAACGAAGTCCGGCAT-1           T cells\n",
      "NBBM1_AAACGCTGTCACAATC-1           T cells\n",
      "NBBM1_AAAGGATGTAGGCTGA-1           B cells\n",
      "NBBM1_AAAGGTAGTCTCAGGC-1           B cells\n",
      "NBBM1_AAAGGTAGTGAGTGAC-1           T cells\n",
      "                                   ...    \n",
      "NB34_Bone_TTTGTTGAGCGAAACC-1       T cells\n",
      "NB34_Bone_TTTGTTGAGTCGCTAT-1    Neutrophil\n",
      "NB34_Bone_TTTGTTGAGTCGGCAA-1       T cells\n",
      "NB34_Bone_TTTGTTGGTAAGGCTG-1       T cells\n",
      "NB34_Bone_TTTGTTGGTGCGTGCT-1       B cells\n",
      "Name: cell1, Length: 36763, dtype: category\n",
      "Categories (13, object): ['B cells', 'NK', 'Neutrophil', 'T cells', ..., 'plasma', 'pro B', 'proerythroblast', 'progenitor']\n"
     ]
    }
   ],
   "source": [
    "data_path = \"/home/nicolas/Downloads/NB.bone.Met_preprocessed.h5ad\"\n",
    "data = sc.read(data_path)\n",
    "print(f\"Data cell 1: {data.obs['cell1']}\")\n",
    "\n",
    "#subset = data[data.obs['cell1'].isin([\"B cells\", \"T cells\", \"myeloid\", \"immature B\", \"Neutrophil\", \"progenitor\"])]\n"
   ]
  },
  {
   "cell_type": "code",
   "execution_count": null,
   "metadata": {},
   "outputs": [],
   "source": [
    "data.X = data.layers['RNA']\n",
    "data.layers['counts']=data.layers['RNA']\n",
    "\n",
    "data = align_dataset(data, cq.gene_order)\n",
    "data = lognorm_counts(data)"
   ]
  },
  {
   "cell_type": "code",
   "execution_count": null,
   "metadata": {},
   "outputs": [],
   "source": [
    "fm_basic_signature = [\"B cells\", \"T cells\", \"myeloid\", \"immature B\", \"Neutrophil\", \"progenitor\"]\n",
    "sc.tl.score_genes(data, fm_basic_signature)"
   ]
  },
  {
   "cell_type": "code",
   "execution_count": null,
   "metadata": {},
   "outputs": [],
   "source": [
    "sig_query_threshold = data.obs.score.quantile(0.999)\n",
    "cells_used_in_query = data.obs.score >= sig_query_threshold\n",
    "data.obs[\"used_in_query\"] = cells_used_in_query"
   ]
  },
  {
   "cell_type": "code",
   "execution_count": null,
   "metadata": {},
   "outputs": [],
   "source": [
    "avg_cell = get_centroid(data.layers[\"counts\"][data.obs[\"used_in_query\"]])\n",
    "avg_embedding = cq.get_embeddings(avg_cell)"
   ]
  }
 ],
 "metadata": {
  "kernelspec": {
   "display_name": "foundation",
   "language": "python",
   "name": "python3"
  },
  "language_info": {
   "codemirror_mode": {
    "name": "ipython",
    "version": 3
   },
   "file_extension": ".py",
   "mimetype": "text/x-python",
   "name": "python",
   "nbconvert_exporter": "python",
   "pygments_lexer": "ipython3",
   "version": "3.12.9"
  }
 },
 "nbformat": 4,
 "nbformat_minor": 2
}
