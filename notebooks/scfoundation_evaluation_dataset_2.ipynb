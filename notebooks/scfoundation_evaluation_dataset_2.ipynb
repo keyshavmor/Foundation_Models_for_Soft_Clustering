{
 "cells": [
  {
   "cell_type": "markdown",
   "id": "bf01447c",
   "metadata": {},
   "source": [
    "# scFoundation Embedding Evaluation – Dataset 1\n",
    "This interactive notebook evaluates the `X_scFoundation` embedding and **prints** cluster quality metrics instead of saving them to a file.\n"
   ]
  },
  {
   "cell_type": "markdown",
   "id": "d769195d",
   "metadata": {},
   "source": [
    "## Imports & parameters"
   ]
  },
  {
   "cell_type": "code",
   "execution_count": 3,
   "id": "d7524051",
   "metadata": {},
   "outputs": [],
   "source": [
    "\n",
    "import scanpy as sc\n",
    "import pandas as pd\n",
    "import numpy as np\n",
    "import matplotlib.pyplot as plt\n",
    "from sklearn.cluster import KMeans\n",
    "from sklearn.mixture import GaussianMixture\n",
    "from sklearn.metrics import adjusted_rand_score, normalized_mutual_info_score, silhouette_score, confusion_matrix\n",
    "import pathlib, os\n",
    "\n",
    "DATA_PATH = pathlib.Path('/work/scratch/ndickenmann/scfoundation_dataset2.h5ad')\n",
    "OUTPUT_DIR = pathlib.Path('/work/scratch/ndickenmann/dataset2_results')\n",
    "OUTPUT_DIR.mkdir(parents=True, exist_ok=True)\n",
    "sc.settings.figdir = OUTPUT_DIR\n",
    "\n",
    "K_NEIGHBORS = 50\n",
    "COMPONENTS_RANGE = range(2, 16)\n",
    "RANDOM_STATE = 0\n",
    "EMBED_KEY = 'X_scFoundation'\n"
   ]
  },
  {
   "cell_type": "markdown",
   "id": "5e85547a",
   "metadata": {},
   "source": [
    "## Load dataset"
   ]
  },
  {
   "cell_type": "code",
   "execution_count": null,
   "id": "abc5dfbe",
   "metadata": {},
   "outputs": [],
   "source": [
    "if not DATA_PATH.is_file():\n",
    "    raise FileNotFoundError(f\"Data file not found: {DATA_PATH}\")\n",
    "adata = sc.read_h5ad(DATA_PATH)\n",
    "print(adata)\n",
    "print('Embedding present:', EMBED_KEY in adata.obsm_keys())\n"
   ]
  },
  {
   "cell_type": "markdown",
   "id": "3cceaf1f",
   "metadata": {},
   "source": [
    "## Build 50‑nearest‑neighbor graph"
   ]
  },
  {
   "cell_type": "code",
   "execution_count": null,
   "id": "06378281",
   "metadata": {},
   "outputs": [],
   "source": [
    "sc.pp.neighbors(adata, n_neighbors=K_NEIGHBORS, use_rep=EMBED_KEY, random_state=RANDOM_STATE)"
   ]
  },
  {
   "cell_type": "code",
   "execution_count": null,
   "id": "32f31703",
   "metadata": {},
   "outputs": [],
   "source": [
    "adata.write_h5ad(OUTPUT_DIR / 'scfoundation_dataset2_with_50_neighbors.h5ad')"
   ]
  },
  {
   "cell_type": "markdown",
   "id": "d08703b4",
   "metadata": {},
   "source": [
    "## Clustering"
   ]
  },
  {
   "cell_type": "code",
   "execution_count": null,
   "id": "be1b372a-1b1d-4e5e-bfa5-d0a3a3e0486a",
   "metadata": {},
   "outputs": [],
   "source": [
    "\n",
    "# Leiden & Louvain\n",
    "sc.tl.leiden(adata, key_added='leiden', random_state=RANDOM_STATE)\n",
    "sc.tl.louvain(adata, key_added='louvain', flavor =\"igraph\",  random_state=RANDOM_STATE)"
   ]
  },
  {
   "cell_type": "code",
   "execution_count": null,
   "id": "c9257fce",
   "metadata": {},
   "outputs": [],
   "source": [
    "\n",
    "# k‑means\n",
    "n_states = adata.obs['cell_state'].nunique()\n",
    "km = KMeans(n_clusters=n_states, random_state=RANDOM_STATE).fit(adata.obsm[EMBED_KEY])\n",
    "adata.obs['kmeans'] = km.labels_.astype(str)\n",
    "\n",
    "# GMM fixed k\n",
    "gmm_fixed = GaussianMixture(n_components=n_states, covariance_type='full', random_state=RANDOM_STATE).fit(adata.obsm[EMBED_KEY])\n",
    "adata.obs['gmm_fixed'] = gmm_fixed.predict(adata.obsm[EMBED_KEY]).astype(str)\n",
    "\n",
    "# BIC‑optimised GMM\n",
    "bic_vals = []\n",
    "for k in COMPONENTS_RANGE:\n",
    "    gm = GaussianMixture(n_components=k, covariance_type='full', random_state=RANDOM_STATE).fit(adata.obsm[EMBED_KEY])\n",
    "    bic_vals.append(gm.bic(adata.obsm[EMBED_KEY]))\n",
    "best_k = COMPONENTS_RANGE[int(np.argmin(bic_vals))]\n",
    "gmm_best = GaussianMixture(n_components=best_k, covariance_type='full', random_state=RANDOM_STATE).fit(adata.obsm[EMBED_KEY])\n",
    "adata.obs['gmm_bic'] = gmm_best.predict(adata.obsm[EMBED_KEY]).astype(str)\n",
    "\n",
    "print('Best k by BIC:', best_k)\n",
    "cluster_keys = ['leiden', 'louvain', 'kmeans', 'gmm_fixed', 'gmm_bic']\n"
   ]
  },
  {
   "cell_type": "markdown",
   "id": "135b6f6d",
   "metadata": {},
   "source": [
    "## Print cluster quality metrics"
   ]
  },
  {
   "cell_type": "code",
   "execution_count": null,
   "id": "e7e6433f",
   "metadata": {},
   "outputs": [],
   "source": [
    "\n",
    "metrics = []\n",
    "for key in cluster_keys:\n",
    "    labels_true = adata.obs['cell_state']\n",
    "    labels_pred = adata.obs[key]\n",
    "    ari = adjusted_rand_score(labels_true, labels_pred)\n",
    "    nmi = normalized_mutual_info_score(labels_true, labels_pred)\n",
    "    sil = silhouette_score(adata.obsm[EMBED_KEY], pd.Categorical(labels_pred).codes)\n",
    "    metrics.append({'method': key, 'ARI': ari, 'NMI': nmi, 'silhouette': sil})\n",
    "\n",
    "metrics_df = pd.DataFrame(metrics).set_index('method')\n",
    "display(metrics_df.style.format('{:.3f}'))\n"
   ]
  },
  {
   "cell_type": "markdown",
   "id": "64271065",
   "metadata": {},
   "source": [
    "## Confusion matrices (saved as CSV/PNG)"
   ]
  },
  {
   "cell_type": "code",
   "execution_count": null,
   "id": "d5e2ef74",
   "metadata": {},
   "outputs": [],
   "source": [
    "import matplotlib.pyplot as plt\n",
    "import seaborn as sns\n",
    "\n",
    "for key in cluster_keys:\n",
    "    cm = confusion_matrix(adata.obs['cell_state'], adata.obs[key])\n",
    "    cm_df = pd.DataFrame(\n",
    "        cm,\n",
    "        index=sorted(adata.obs['cell_state'].unique()),\n",
    "        columns=sorted(adata.obs[key].unique())\n",
    "    )\n",
    "    display(cm_df)                         # show the DataFrame\n",
    "    plt.figure(figsize=(6,4))\n",
    "    sns.heatmap(cm_df, annot=True, fmt='d')  # draw a heatmap\n",
    "    plt.title(f'Confusion matrix: {key}')\n",
    "    plt.ylabel('True')\n",
    "    plt.xlabel('Predicted')\n",
    "    plt.show()\n",
    "    cm_df.to_csv(OUTPUT_DIR / f'confusion_{key}.csv')"
   ]
  },
  {
   "cell_type": "markdown",
   "id": "7a961310",
   "metadata": {},
   "source": [
    "## UMAP visualisations"
   ]
  },
  {
   "cell_type": "code",
   "execution_count": null,
   "id": "99ce79be",
   "metadata": {},
   "outputs": [],
   "source": [
    "\n",
    "sc.tl.umap(adata, random_state=RANDOM_STATE)\n",
    "sc.pl.umap(adata, color=['cell_state'], show=True)\n",
    "batch_key = next((k for k in ['donor_id','sample'] if k in adata.obs.columns), None)\n",
    "if batch_key:\n",
    "    sc.pl.umap(adata, color=[batch_key], show=True)\n",
    "sc.pl.umap(adata, color=cluster_keys, show=True)\n"
   ]
  },
  {
   "cell_type": "markdown",
   "id": "7ba06995",
   "metadata": {},
   "source": [
    "## Save annotated AnnData"
   ]
  },
  {
   "cell_type": "code",
   "execution_count": null,
   "id": "ff274107",
   "metadata": {},
   "outputs": [],
   "source": [
    "\n",
    "adata.write_h5ad(OUTPUT_DIR / 'dataset1_annotated.h5ad')\n",
    "print('Annotated AnnData saved.')\n"
   ]
  }
 ],
 "metadata": {
  "kernelspec": {
   "display_name": "Python (scimilarity_home)",
   "language": "python",
   "name": "scimilarity_home"
  },
  "language_info": {
   "codemirror_mode": {
    "name": "ipython",
    "version": 3
   },
   "file_extension": ".py",
   "mimetype": "text/x-python",
   "name": "python",
   "nbconvert_exporter": "python",
   "pygments_lexer": "ipython3",
   "version": "3.10.16"
  }
 },
 "nbformat": 4,
 "nbformat_minor": 5
}
