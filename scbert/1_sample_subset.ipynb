{
 "cells": [
  {
   "cell_type": "markdown",
   "id": "d2b9bb23",
   "metadata": {},
   "source": [
    "Create two subset trying to keep as much as possible the same proportions of cell states and cell type across stages"
   ]
  },
  {
   "cell_type": "code",
   "execution_count": 2,
   "id": "c83a0057",
   "metadata": {},
   "outputs": [],
   "source": [
    "import numpy as np \n",
    "import scanpy as sc\n",
    "from anndata import AnnData\n",
    "from scipy import sparse\n",
    "from tqdm.notebook import tqdm"
   ]
  },
  {
   "cell_type": "code",
   "execution_count": 4,
   "id": "918e21af",
   "metadata": {},
   "outputs": [
    {
     "data": {
      "text/plain": [
       "AnnData object with n_obs × n_vars = 205153 × 16906\n",
       "    obs: 'orig.ident', 'nCount_RNA', 'nFeature_RNA', 'Stage_Code', 'Tissue', 'Risk_Category', 'First_Avail_TP', 'MYCN_Status', 'ALK_Status', 'TP53_Status', 'Response', 'Vital_Status', 'Age_at_IDX_in_months', 'Treatment', 'First_Avail_Time_Point', 'sample_name', 'biospecimen_id', 'percent.mt', 'seurat_clusters', 'sample_label_wo_prefix', 'S.Score', 'G2M.Score', 'Phase', 'malignancy', 'cell_state', 'RNA_snn_res.0.2', 'MES_Score', 'ADRN_Score', 'MES_ADRN_diff', 'Event', 'organism_ontology_term_id', 'donor_id', 'development_stage_ontology_term_id', 'sex_ontology_term_id', 'disease_ontology_term_id', 'tissue_type', 'cell_type_ontology_term_id', 'assay_ontology_term_id', 'suspension_type', 'tissue_ontology_term_id', 'self_reported_ethnicity_ontology_term_id', 'is_primary_data', 'cell_type', 'assay', 'disease', 'organism', 'sex', 'tissue', 'self_reported_ethnicity', 'development_stage', 'observation_joinid'\n",
       "    uns: 'log1p'"
      ]
     },
     "execution_count": 4,
     "metadata": {},
     "output_type": "execute_result"
    }
   ],
   "source": [
    "#Load preprocessed data\n",
    "data_path = 'data/preprocessed_data.h5ad'\n",
    "adata = sc.read_h5ad(data_path)\n",
    "adata"
   ]
  },
  {
   "cell_type": "code",
   "execution_count": 125,
   "id": "5faf5043",
   "metadata": {},
   "outputs": [
    {
     "name": "stderr",
     "output_type": "stream",
     "text": [
      "C:\\Users\\arthe\\AppData\\Local\\Temp\\ipykernel_5368\\3920318619.py:35: FutureWarning: Use anndata.concat instead of AnnData.concatenate, AnnData.concatenate is deprecated and will be removed in the future. See the tutorial for concat at: https://anndata.readthedocs.io/en/latest/concatenation.html\n",
      "  subset = adata_stage[0].concatenate(adata_stage[1], batch_key=\"Stage_Code\", batch_categories=stage_codes)\n"
     ]
    },
    {
     "data": {
      "text/plain": [
       "AnnData object with n_obs × n_vars = 96690 × 16906\n",
       "    obs: 'orig.ident', 'nCount_RNA', 'nFeature_RNA', 'Stage_Code', 'Tissue', 'Risk_Category', 'First_Avail_TP', 'MYCN_Status', 'ALK_Status', 'TP53_Status', 'Response', 'Vital_Status', 'Age_at_IDX_in_months', 'Treatment', 'First_Avail_Time_Point', 'sample_name', 'biospecimen_id', 'percent.mt', 'seurat_clusters', 'sample_label_wo_prefix', 'S.Score', 'G2M.Score', 'Phase', 'malignancy', 'cell_state', 'RNA_snn_res.0.2', 'MES_Score', 'ADRN_Score', 'MES_ADRN_diff', 'Event', 'organism_ontology_term_id', 'donor_id', 'development_stage_ontology_term_id', 'sex_ontology_term_id', 'disease_ontology_term_id', 'tissue_type', 'cell_type_ontology_term_id', 'assay_ontology_term_id', 'suspension_type', 'tissue_ontology_term_id', 'self_reported_ethnicity_ontology_term_id', 'is_primary_data', 'cell_type', 'assay', 'disease', 'organism', 'sex', 'tissue', 'self_reported_ethnicity', 'development_stage', 'observation_joinid'"
      ]
     },
     "execution_count": 125,
     "metadata": {},
     "output_type": "execute_result"
    }
   ],
   "source": [
    "# Subsample the data, making sure to keep the same proportions of cell states and cell type across stages\n",
    "N_subsample = 100000\n",
    "stage_codes = ['DX', 'PTX']\n",
    "original_dist_cell_state = adata.obs['cell_state'].value_counts(normalize=True)\n",
    "original_cell_type_dist = adata.obs['cell_type'].value_counts(normalize=True)\n",
    "adata_stage = []\n",
    "\n",
    "for stage in stage_codes:\n",
    "    stage_cells = adata[adata.obs['Stage_Code'] == stage].copy()\n",
    "    sampled_indices = []\n",
    "\n",
    "    for state, proportion_state in original_dist_cell_state.items():\n",
    "        # Filter for cells in this state\n",
    "        state_cells = stage_cells[stage_cells.obs['cell_state'] == state]\n",
    "        \n",
    "        # Calculate the number of samples for this state\n",
    "        n_to_sample_state = int(proportion_state * (N_subsample / 2))\n",
    "        n_to_sample_state = min(n_to_sample_state, len(state_cells))\n",
    "        \n",
    "\n",
    "        for cell_type, proportion_type in original_cell_type_dist.items():\n",
    "            # Subsample based on cell_type proportion\n",
    "            type_cells = state_cells[state_cells.obs['cell_type'] == cell_type]\n",
    "            n_to_sample_type = int(proportion_type * n_to_sample_state)\n",
    "            n_to_sample_type = min(n_to_sample_type, len(type_cells))\n",
    "\n",
    "            sampled = type_cells.obs.sample(n=n_to_sample_type, random_state=0)\n",
    "            sampled_indices.extend(sampled.index.tolist())\n",
    "            \n",
    "    # Create the subsampled dataset for this stage\n",
    "    stage_cells_matched = stage_cells[sampled_indices].copy()\n",
    "    adata_stage.append(stage_cells_matched)\n",
    "\n",
    "# Combine both stages\n",
    "subset = adata_stage[0].concatenate(adata_stage[1], batch_key=\"Stage_Code\", batch_categories=stage_codes)\n",
    "\n",
    "subset\n"
   ]
  },
  {
   "cell_type": "code",
   "execution_count": null,
   "id": "b4c38811",
   "metadata": {},
   "outputs": [
    {
     "name": "stderr",
     "output_type": "stream",
     "text": [
      "C:\\Users\\arthe\\AppData\\Local\\Temp\\ipykernel_5368\\1602682641.py:7: FutureWarning: The default of observed=False is deprecated and will be changed to True in a future version of pandas. Pass observed=False to retain current behavior or observed=True to adopt the future default and silence this warning.\n",
      "  for state, group in subset.obs.groupby('cell_state'):\n"
     ]
    }
   ],
   "source": [
    "# Split the subsampled data in two sets, preserving the same proportions of cell states\n",
    "# Lists to collect indices\n",
    "indices_test = []\n",
    "indices_train = []\n",
    "\n",
    "# Loop through each cell_state and split it\n",
    "for state, group in subset.obs.groupby('cell_state'):\n",
    "    # Shuffle and split indices\n",
    "    shuffled = group.sample(frac=1.0, random_state=42)\n",
    "    n = len(shuffled)\n",
    "    split = n // 2\n",
    "\n",
    "    indices_test.extend(shuffled.iloc[:split].index)\n",
    "    indices_train.extend(shuffled.iloc[split:].index)\n",
    "\n",
    "# Create two AnnData objects\n",
    "adata_train = subset[indices_test].copy()\n",
    "adata_test = subset[indices_train].copy()"
   ]
  },
  {
   "cell_type": "code",
   "execution_count": null,
   "id": "4e277fa9",
   "metadata": {},
   "outputs": [],
   "source": [
    "indices_test.write_h5ad('./data/tst_data.h5ad', compression='gzip')\n",
    "adata_train.write_h5ad('./data/finetunning_data.h5ad', compression='gzip')"
   ]
  },
  {
   "cell_type": "markdown",
   "id": "9caeb37b",
   "metadata": {},
   "source": [
    "### Distributions"
   ]
  },
  {
   "cell_type": "code",
   "execution_count": 122,
   "id": "b80a0fad",
   "metadata": {},
   "outputs": [
    {
     "name": "stdout",
     "output_type": "stream",
     "text": [
      "Stage_Code\n",
      "PTX    52.070406\n",
      "DX     47.929594\n",
      "Name: proportion, dtype: float64\n",
      "cell_type\n",
      "neuroblast (sensu Vertebrata)    97.117273\n",
      "fibroblast                        2.430381\n",
      "Schwann cell                      0.452345\n",
      "Name: proportion, dtype: float64\n"
     ]
    },
    {
     "data": {
      "text/plain": [
       "cell_state\n",
       "ADRN-Calcium          25.567747\n",
       "ADRN-Baseline         23.743255\n",
       "Interm-OxPhos         18.084064\n",
       "ADRN-Dopaminergic     17.401647\n",
       "ADRN-Proliferating     9.820475\n",
       "MES                    5.382812\n",
       "Name: proportion, dtype: float64"
      ]
     },
     "execution_count": 122,
     "metadata": {},
     "output_type": "execute_result"
    }
   ],
   "source": [
    "#Original distribution of cell states\n",
    "print(adata.obs['Stage_Code'].value_counts(normalize=True) * 100)\n",
    "print(adata.obs['cell_type'].value_counts(normalize=True) * 100)\n",
    "adata.obs['cell_state'].value_counts(normalize=True) * 100"
   ]
  },
  {
   "cell_type": "code",
   "execution_count": null,
   "id": "4dc90e95",
   "metadata": {},
   "outputs": [
    {
     "name": "stdout",
     "output_type": "stream",
     "text": [
      "Stage_Code\n",
      "DX     50.018617\n",
      "PTX    49.981383\n",
      "Name: proportion, dtype: float64\n",
      "cell_type\n",
      "neuroblast (sensu Vertebrata)    98.841635\n",
      "fibroblast                        1.083899\n",
      "Schwann cell                      0.074466\n",
      "Name: proportion, dtype: float64\n",
      "cell_state\n",
      "ADRN-Calcium          25.883253\n",
      "ADRN-Baseline         23.839566\n",
      "Interm-OxPhos         18.484197\n",
      "ADRN-Dopaminergic     17.491312\n",
      "ADRN-Proliferating    10.011584\n",
      "MES                    4.290088\n",
      "Name: proportion, dtype: float64\n",
      "----------------------\n",
      "cell_state\n",
      "ADRN-Calcium          26.012158\n",
      "ADRN-Baseline         24.585418\n",
      "Interm-OxPhos         18.522807\n",
      "ADRN-Dopaminergic     17.517886\n",
      "ADRN-Proliferating    10.318018\n",
      "MES                    3.043712\n",
      "Name: proportion, dtype: float64\n",
      "cell_state\n",
      "ADRN-Calcium          25.754252\n",
      "ADRN-Baseline         23.093159\n",
      "Interm-OxPhos         18.445557\n",
      "ADRN-Dopaminergic     17.464719\n",
      "ADRN-Proliferating     9.704921\n",
      "MES                    5.537392\n",
      "Name: proportion, dtype: float64\n",
      "----------------------\n",
      "cell_type\n",
      "neuroblast (sensu Vertebrata)    98.569125\n",
      "fibroblast                        1.393656\n",
      "Schwann cell                      0.037219\n",
      "Name: proportion, dtype: float64\n",
      "cell_type\n",
      "neuroblast (sensu Vertebrata)    99.114348\n",
      "fibroblast                        0.773911\n",
      "Schwann cell                      0.111741\n",
      "Name: proportion, dtype: float64\n"
     ]
    }
   ],
   "source": [
    "#Train distribution of cell states\n",
    "print(adata_test.obs['Stage_Code'].value_counts(normalize=True) * 100)\n",
    "print(adata_test.obs['cell_type'].value_counts(normalize=True) * 100)\n",
    "print(adata_test.obs['cell_state'].value_counts(normalize=True) * 100)\n",
    "print('----------------------')\n",
    "print(adata_test[adata_test.obs['Stage_Code'] == 'DX'].obs['cell_state'].value_counts(normalize=True) * 100)\n",
    "print(adata_test[adata_test.obs['Stage_Code'] == 'PTX'].obs['cell_state'].value_counts(normalize=True) * 100)\n",
    "print('----------------------')\n",
    "print(adata_test[adata_test.obs['Stage_Code'] == 'DX'].obs['cell_type'].value_counts(normalize=True) * 100)\n",
    "print(adata_test[adata_test.obs['Stage_Code'] == 'PTX'].obs['cell_type'].value_counts(normalize=True) * 100)"
   ]
  },
  {
   "cell_type": "code",
   "execution_count": null,
   "id": "694a3d0e",
   "metadata": {},
   "outputs": [
    {
     "name": "stdout",
     "output_type": "stream",
     "text": [
      "Stage_Code\n",
      "PTX    50.730153\n",
      "DX     49.269847\n",
      "Name: proportion, dtype: float64\n",
      "cell_type\n",
      "neuroblast (sensu Vertebrata)    98.831341\n",
      "fibroblast                        1.092128\n",
      "Schwann cell                      0.076532\n",
      "Name: proportion, dtype: float64\n",
      "cell_state\n",
      "ADRN-Calcium          25.882183\n",
      "ADRN-Baseline         23.840649\n",
      "Interm-OxPhos         18.483432\n",
      "ADRN-Dopaminergic     17.490589\n",
      "ADRN-Proliferating    10.011169\n",
      "MES                    4.291979\n",
      "Name: proportion, dtype: float64\n",
      "----------------------\n",
      "cell_state\n",
      "ADRN-Calcium          25.890008\n",
      "ADRN-Baseline         24.647355\n",
      "Interm-OxPhos         18.677582\n",
      "ADRN-Dopaminergic     17.707809\n",
      "ADRN-Proliferating    10.041982\n",
      "MES                    3.035264\n",
      "Name: proportion, dtype: float64\n",
      "cell_state\n",
      "ADRN-Calcium          25.874582\n",
      "ADRN-Baseline         23.057164\n",
      "Interm-OxPhos         18.294871\n",
      "ADRN-Dopaminergic     17.279622\n",
      "ADRN-Proliferating     9.981244\n",
      "MES                    5.512517\n",
      "Name: proportion, dtype: float64\n",
      "----------------------\n",
      "cell_type\n",
      "neuroblast (sensu Vertebrata)    98.602015\n",
      "fibroblast                        1.376994\n",
      "Schwann cell                      0.020991\n",
      "Name: proportion, dtype: float64\n",
      "cell_type\n",
      "neuroblast (sensu Vertebrata)    99.054065\n",
      "fibroblast                        0.815461\n",
      "Schwann cell                      0.130474\n",
      "Name: proportion, dtype: float64\n"
     ]
    }
   ],
   "source": [
    "#Test distribution of cell states\n",
    "print(adata_train.obs['Stage_Code'].value_counts(normalize=True) * 100)\n",
    "print(adata_train.obs['cell_type'].value_counts(normalize=True) * 100)\n",
    "print(adata_train.obs['cell_state'].value_counts(normalize=True) * 100)\n",
    "print('----------------------')\n",
    "print(adata_train[adata_train.obs['Stage_Code'] == 'DX'].obs['cell_state'].value_counts(normalize=True) * 100)\n",
    "print(adata_train[adata_train.obs['Stage_Code'] == 'PTX'].obs['cell_state'].value_counts(normalize=True) * 100)\n",
    "print('----------------------')\n",
    "print(adata_train[adata_train.obs['Stage_Code'] == 'DX'].obs['cell_type'].value_counts(normalize=True) * 100)\n",
    "print(adata_train[adata_train.obs['Stage_Code'] == 'PTX'].obs['cell_type'].value_counts(normalize=True) * 100)"
   ]
  }
 ],
 "metadata": {
  "kernelspec": {
   "display_name": "scbert_new",
   "language": "python",
   "name": "python3"
  },
  "language_info": {
   "codemirror_mode": {
    "name": "ipython",
    "version": 3
   },
   "file_extension": ".py",
   "mimetype": "text/x-python",
   "name": "python",
   "nbconvert_exporter": "python",
   "pygments_lexer": "ipython3",
   "version": "3.9.21"
  }
 },
 "nbformat": 4,
 "nbformat_minor": 5
}
