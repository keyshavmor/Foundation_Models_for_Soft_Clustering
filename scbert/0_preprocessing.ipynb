{
 "cells": [
  {
   "cell_type": "code",
   "execution_count": 2,
   "id": "244d8538",
   "metadata": {},
   "outputs": [],
   "source": [
    "import numpy as np \n",
    "import scanpy as sc\n",
    "from anndata import AnnData\n",
    "from scipy import sparse\n",
    "from tqdm.notebook import tqdm"
   ]
  },
  {
   "cell_type": "code",
   "execution_count": 2,
   "id": "d96262e3",
   "metadata": {},
   "outputs": [
    {
     "name": "stderr",
     "output_type": "stream",
     "text": [
      "c:\\Users\\arthe\\anaconda3\\envs\\scbert_new\\lib\\site-packages\\anndata\\_core\\anndata.py:1754: UserWarning: Observation names are not unique. To make them unique, call `.obs_names_make_unique`.\n",
      "  utils.warn_names_duplicates(\"obs\")\n"
     ]
    },
    {
     "data": {
      "text/plain": [
       "AnnData object with n_obs × n_vars = 36763 × 25139\n",
       "    obs: 'cell1', 'cell2', 'fraction', 'sample', 'cell_ID', 'n_genes', 'leiden'\n",
       "    var: 'hgnc_symbol', 'ensembl_gene_id', 'gene_biotype', 'n_cells', 'mean', 'std'\n",
       "    uns: 'leiden', 'neighbors', 'pca', 'umap'\n",
       "    obsm: 'X_pca', 'X_umap'\n",
       "    varm: 'PCs'\n",
       "    layers: 'RNA', 'log1p_norm'\n",
       "    obsp: 'connectivities', 'distances'"
      ]
     },
     "execution_count": 2,
     "metadata": {},
     "output_type": "execute_result"
    }
   ],
   "source": [
    "panglao = sc.read_h5ad('./data/panglao_10000.h5ad')\n",
    "adata = sc.read_h5ad('./data/NB.bone.Met_preprocessed.h5ad')\n",
    "adata"
   ]
  },
  {
   "cell_type": "code",
   "execution_count": 4,
   "id": "7b73a4ff",
   "metadata": {},
   "outputs": [
    {
     "name": "stderr",
     "output_type": "stream",
     "text": [
      "c:\\Users\\arthe\\anaconda3\\envs\\scbert_new\\lib\\site-packages\\anndata\\_core\\anndata.py:618: FutureWarning: You are attempting to set `X` to a matrix on a view which has non-unique indices. The resulting `adata.X` will likely not equal the value to which you set it. To avoid this potential issue, please make a copy of the data first. In the future, this operation will throw an error.\n",
      "  warnings.warn(msg, FutureWarning, stacklevel=1)\n",
      "C:\\Users\\arthe\\AppData\\Local\\Temp\\ipykernel_21220\\3963308881.py:4: UserWarning: Trying to set a dense array with a sparse array on a view.Densifying the sparse array.This may incur excessive memory usage\n",
      "  adata_filterd.X = adata_filterd.layers['RNA'].copy()\n"
     ]
    },
    {
     "data": {
      "text/plain": [
       "View of AnnData object with n_obs × n_vars = 36763 × 1000\n",
       "    obs: 'cell1', 'cell2', 'fraction', 'sample', 'cell_ID', 'n_genes', 'leiden'\n",
       "    var: 'hgnc_symbol', 'ensembl_gene_id', 'gene_biotype', 'n_cells', 'mean', 'std', 'highly_variable', 'means', 'dispersions', 'dispersions_norm'\n",
       "    uns: 'leiden', 'neighbors', 'pca', 'umap', 'hvg'\n",
       "    obsm: 'X_pca', 'X_umap'\n",
       "    varm: 'PCs'\n",
       "    layers: 'RNA', 'log1p_norm'\n",
       "    obsp: 'connectivities', 'distances'"
      ]
     },
     "execution_count": 4,
     "metadata": {},
     "output_type": "execute_result"
    }
   ],
   "source": [
    "#filter genes\n",
    "sc.pp.highly_variable_genes(adata, flavor=\"seurat\", n_top_genes=1000, layer=\"log1p_norm\")\n",
    "adata_filterd = adata[:, adata.var['highly_variable']]\n",
    "adata_filterd.X = adata_filterd.layers['RNA'].copy()\n",
    "adata_filterd"
   ]
  },
  {
   "cell_type": "code",
   "execution_count": 5,
   "id": "1b379020",
   "metadata": {},
   "outputs": [],
   "source": [
    "#preprocessing step from Tencent\n",
    "def scbert_preprocessing(data, panglao):\n",
    "    counts = sparse.lil_matrix((data.X.shape[0],panglao.X.shape[1]),dtype=np.float32)\n",
    "    ref = panglao.var_names.tolist()\n",
    "    obj = data.var_names.tolist()\n",
    "\n",
    "    for i in range(len(ref)):\n",
    "        if ref[i] in obj:\n",
    "            loc = obj.index(ref[i])\n",
    "            counts[:,i] = data.X[:,loc]\n",
    "\n",
    "    counts = counts.tocsr()\n",
    "    new = AnnData(X=counts)\n",
    "    new.var_names = ref\n",
    "    new.obs_names = data.obs_names\n",
    "    new.obs = data.obs\n",
    "    new.uns = panglao.uns\n",
    "\n",
    "    # sc.pp.filter_cells(new, min_genes=200)\n",
    "    sc.pp.normalize_total(new, target_sum=1e4)\n",
    "    sc.pp.log1p(new, base=2)\n",
    "    return new"
   ]
  },
  {
   "cell_type": "code",
   "execution_count": 6,
   "id": "87e5661f",
   "metadata": {},
   "outputs": [
    {
     "name": "stderr",
     "output_type": "stream",
     "text": [
      "c:\\Users\\arthe\\anaconda3\\envs\\scbert_new\\lib\\site-packages\\anndata\\_core\\anndata.py:796: ImplicitModificationWarning: Trying to modify index of attribute `.obs` of view, initializing view as actual.\n",
      "  getattr(self, attr).index = value\n"
     ]
    },
    {
     "name": "stdout",
     "output_type": "stream",
     "text": [
      "WARNING: adata.X seems to be already log-transformed.\n"
     ]
    },
    {
     "data": {
      "text/plain": [
       "AnnData object with n_obs × n_vars = 36763 × 16906\n",
       "    obs: 'cell1', 'cell2', 'fraction', 'sample', 'cell_ID', 'n_genes', 'leiden'\n",
       "    uns: 'log1p'"
      ]
     },
     "execution_count": 6,
     "metadata": {},
     "output_type": "execute_result"
    }
   ],
   "source": [
    "adata_preprocessed = scbert_preprocessing(adata_filterd, panglao)\n",
    "adata_preprocessed"
   ]
  },
  {
   "cell_type": "code",
   "execution_count": null,
   "id": "a64cb361",
   "metadata": {},
   "outputs": [
    {
     "name": "stdout",
     "output_type": "stream",
     "text": [
      "View of AnnData object with n_obs × n_vars = 36763 × 678\n",
      "    obs: 'cell1', 'cell2', 'fraction', 'sample', 'cell_ID', 'n_genes', 'leiden'\n",
      "    uns: 'log1p'\n",
      "(678, 200)\n"
     ]
    }
   ],
   "source": [
    "# remove genes with 0 correspondance to our data to fasten computation\n",
    "# genes must also be removed from the Tencent gene2vec dictionnary\n",
    "gene2vec = np.load('./data/gene2vec_16906.npy')\n",
    "\n",
    "non_zero_columns = (adata_preprocessed.X.toarray() != 0).any(axis=0)\n",
    "non_zero_adata_preprocessed = adata_preprocessed[:, non_zero_columns]\n",
    "non_zero_gene2vec = gene2vec[non_zero_columns,:]\n",
    "\n",
    "print(non_zero_adata_preprocessed)\n",
    "print(non_zero_gene2vec.shape)"
   ]
  },
  {
   "cell_type": "code",
   "execution_count": 32,
   "id": "358d2cc2",
   "metadata": {},
   "outputs": [],
   "source": [
    "non_zero_adata_preprocessed.write_h5ad('./data/non_zero_preprocessed_data_1000.h5ad')\n",
    "np.save('./data/non_zero_gene2vec_1000.npy', non_zero_gene2vec)"
   ]
  }
 ],
 "metadata": {
  "kernelspec": {
   "display_name": "scbert_new",
   "language": "python",
   "name": "python3"
  },
  "language_info": {
   "codemirror_mode": {
    "name": "ipython",
    "version": 3
   },
   "file_extension": ".py",
   "mimetype": "text/x-python",
   "name": "python",
   "nbconvert_exporter": "python",
   "pygments_lexer": "ipython3",
   "version": "3.9.21"
  }
 },
 "nbformat": 4,
 "nbformat_minor": 5
}
