{
 "cells": [
  {
   "cell_type": "code",
   "execution_count": 2,
   "id": "244d8538",
   "metadata": {},
   "outputs": [],
   "source": [
    "import numpy as np \n",
    "import scanpy as sc\n",
    "from anndata import AnnData\n",
    "from scipy import sparse\n",
    "from tqdm.notebook import tqdm"
   ]
  },
  {
   "cell_type": "code",
   "execution_count": 6,
   "id": "d96262e3",
   "metadata": {},
   "outputs": [
    {
     "name": "stderr",
     "output_type": "stream",
     "text": [
      "c:\\Users\\arthe\\anaconda3\\envs\\scbert_new\\lib\\site-packages\\anndata\\_core\\anndata.py:1754: UserWarning: Observation names are not unique. To make them unique, call `.obs_names_make_unique`.\n",
      "  utils.warn_names_duplicates(\"obs\")\n"
     ]
    },
    {
     "data": {
      "text/plain": [
       "AnnData object with n_obs × n_vars = 119439 × 2000\n",
       "    obs: 'orig.ident', 'nCount_RNA', 'nFeature_RNA', 'percent_mito', 'Study', 'Assay', 'Platform', 'Sample', 'Patient_No', 'Timepoint', 'INSS_stage', 'MYCN_amplification', 'Gender', 'Risk', 'Cell_condition', 'Cell_type', 'cell', 'n_genes', 'leiden', 'cnv_leiden', 'cnv_score', 'cnv_status'\n",
       "    var: 'hgnc_symbol', 'ensembl_gene_id', 'gene_biotype', 'n_cells', 'mean', 'std', 'chromosome', 'start', 'end', 'gene_id', 'gene_name', 'highly_variable', 'highly_variable_rank', 'means', 'variances', 'variances_norm'\n",
       "    uns: 'Cell_type_colors', 'INSS_stage_colors', 'Sample_colors', 'Study_colors', 'cnv', 'cnv_leiden', 'cnv_leiden_colors', 'cnv_neighbors', 'dendrogram_cnv_leiden', 'hvg', 'leiden', 'neighbors', 'pca', 'umap'\n",
       "    obsm: 'X_cnv', 'X_cnv_pca', 'X_cnv_umap', 'X_pca', 'X_pca_harmony', 'X_umap', 'scvi_umap'\n",
       "    varm: 'PCs'\n",
       "    layers: 'RNA', 'log1p_norm'\n",
       "    obsp: 'cnv_neighbors_connectivities', 'cnv_neighbors_distances', 'connectivities', 'distances'"
      ]
     },
     "execution_count": 6,
     "metadata": {},
     "output_type": "execute_result"
    }
   ],
   "source": [
    "panglao = sc.read_h5ad('./data/panglao_10000.h5ad')\n",
    "data = sc.read_h5ad('./data/dataset_2.h5ad')\n",
    "data"
   ]
  },
  {
   "cell_type": "code",
   "execution_count": null,
   "id": "8a14cdcd",
   "metadata": {},
   "outputs": [
    {
     "name": "stdout",
     "output_type": "stream",
     "text": [
      "WARNING: adata.X seems to be already log-transformed.\n"
     ]
    },
    {
     "name": "stderr",
     "output_type": "stream",
     "text": [
      "c:\\Users\\arthe\\anaconda3\\envs\\scbert_new\\lib\\site-packages\\scanpy\\preprocessing\\_normalization.py:234: UserWarning: Some cells have zero counts\n",
      "  warn(UserWarning(\"Some cells have zero counts\"))\n"
     ]
    }
   ],
   "source": [
    "# counts = sparse.lil_matrix((data.X.shape[0],panglao.X.shape[1]),dtype=np.float32)\n",
    "# ref = panglao.var_names.tolist()\n",
    "# obj = data.var_names.tolist()\n",
    "\n",
    "# for i in range(len(ref)):\n",
    "#     if ref[i] in obj:\n",
    "#         loc = obj.index(ref[i])\n",
    "#         counts[:,i] = data.X[:,loc]\n",
    "\n",
    "# counts = counts.tocsr()\n",
    "# new = AnnData(X=counts)\n",
    "# new.var_names = ref\n",
    "# new.obs_names = data.obs_names\n",
    "# new.obs = data.obs\n",
    "# new.uns = panglao.uns\n",
    "\n",
    "# #sc.pp.filter_cells(new, min_genes=200)\n",
    "# sc.pp.normalize_total(new, target_sum=1e4)\n",
    "# sc.pp.log1p(new, base=2)\n",
    "# # new.write('./data/preprocessed_data.h5ad')\n"
   ]
  },
  {
   "cell_type": "code",
   "execution_count": 8,
   "id": "e0a62b57",
   "metadata": {},
   "outputs": [
    {
     "data": {
      "text/plain": [
       "View of AnnData object with n_obs × n_vars = 10000 × 2000\n",
       "    obs: 'orig.ident', 'nCount_RNA', 'nFeature_RNA', 'percent_mito', 'Study', 'Assay', 'Platform', 'Sample', 'Patient_No', 'Timepoint', 'INSS_stage', 'MYCN_amplification', 'Gender', 'Risk', 'Cell_condition', 'Cell_type', 'cell', 'n_genes', 'leiden', 'cnv_leiden', 'cnv_score', 'cnv_status'\n",
       "    var: 'hgnc_symbol', 'ensembl_gene_id', 'gene_biotype', 'n_cells', 'mean', 'std', 'chromosome', 'start', 'end', 'gene_id', 'gene_name', 'highly_variable', 'highly_variable_rank', 'means', 'variances', 'variances_norm'\n",
       "    uns: 'Cell_type_colors', 'INSS_stage_colors', 'Sample_colors', 'Study_colors', 'cnv', 'cnv_leiden', 'cnv_leiden_colors', 'cnv_neighbors', 'dendrogram_cnv_leiden', 'hvg', 'leiden', 'neighbors', 'pca', 'umap'\n",
       "    obsm: 'X_cnv', 'X_cnv_pca', 'X_cnv_umap', 'X_pca', 'X_pca_harmony', 'X_umap', 'scvi_umap'\n",
       "    varm: 'PCs'\n",
       "    layers: 'RNA', 'log1p_norm'\n",
       "    obsp: 'cnv_neighbors_connectivities', 'cnv_neighbors_distances', 'connectivities', 'distances'"
      ]
     },
     "execution_count": 8,
     "metadata": {},
     "output_type": "execute_result"
    }
   ],
   "source": [
    "#only select 2000 genes\n",
    "adata_filterd = data[:10000]\n",
    "adata_filterd"
   ]
  },
  {
   "cell_type": "code",
   "execution_count": 9,
   "id": "eb6c0d6f",
   "metadata": {},
   "outputs": [],
   "source": [
    "adata_filterd.write_h5ad('data/test_2.h5ad')"
   ]
  }
 ],
 "metadata": {
  "kernelspec": {
   "display_name": "scbert_new",
   "language": "python",
   "name": "python3"
  },
  "language_info": {
   "codemirror_mode": {
    "name": "ipython",
    "version": 3
   },
   "file_extension": ".py",
   "mimetype": "text/x-python",
   "name": "python",
   "nbconvert_exporter": "python",
   "pygments_lexer": "ipython3",
   "version": "3.9.21"
  }
 },
 "nbformat": 4,
 "nbformat_minor": 5
}
