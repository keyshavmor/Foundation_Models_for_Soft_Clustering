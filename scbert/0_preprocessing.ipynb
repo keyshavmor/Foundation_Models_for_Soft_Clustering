{
 "cells": [
  {
   "cell_type": "code",
   "execution_count": 1,
   "id": "244d8538",
   "metadata": {},
   "outputs": [],
   "source": [
    "import numpy as np \n",
    "import scanpy as sc\n",
    "from anndata import AnnData\n",
    "from scipy import sparse\n",
    "from tqdm.notebook import tqdm\n",
    "import requests"
   ]
  },
  {
   "cell_type": "code",
   "execution_count": 2,
   "id": "7c10ab04",
   "metadata": {},
   "outputs": [
    {
     "data": {
      "text/plain": [
       "AnnData object with n_obs × n_vars = 205153 × 20542\n",
       "    obs: 'orig.ident', 'nCount_RNA', 'nFeature_RNA', 'Stage_Code', 'Tissue', 'Risk_Category', 'First_Avail_TP', 'MYCN_Status', 'ALK_Status', 'TP53_Status', 'Response', 'Vital_Status', 'Age_at_IDX_in_months', 'Treatment', 'First_Avail_Time_Point', 'sample_name', 'biospecimen_id', 'percent.mt', 'seurat_clusters', 'sample_label_wo_prefix', 'S.Score', 'G2M.Score', 'Phase', 'malignancy', 'cell_state', 'RNA_snn_res.0.2', 'MES_Score', 'ADRN_Score', 'MES_ADRN_diff', 'Event', 'organism_ontology_term_id', 'donor_id', 'development_stage_ontology_term_id', 'sex_ontology_term_id', 'disease_ontology_term_id', 'tissue_type', 'cell_type_ontology_term_id', 'assay_ontology_term_id', 'suspension_type', 'tissue_ontology_term_id', 'self_reported_ethnicity_ontology_term_id', 'is_primary_data', 'cell_type', 'assay', 'disease', 'organism', 'sex', 'tissue', 'self_reported_ethnicity', 'development_stage', 'observation_joinid'\n",
       "    var: 'gene_name', 'vf_vst_counts_mean', 'vf_vst_counts_variance', 'vf_vst_counts_variance.expected', 'vf_vst_counts_variance.standardized', 'vf_vst_counts_variable', 'vf_vst_counts_rank', 'var.features', 'var.features.rank', 'ensembl_id_version', 'feature_is_filtered', 'feature_name', 'feature_reference', 'feature_biotype', 'feature_length', 'feature_type'\n",
       "    uns: 'citation', 'schema_reference', 'schema_version', 'title'\n",
       "    obsm: 'X_harmony', 'X_pca', 'X_umap'"
      ]
     },
     "execution_count": 2,
     "metadata": {},
     "output_type": "execute_result"
    }
   ],
   "source": [
    "adata = sc.read_h5ad('./data/sn_tumor_cells_NB.h5ad')\n",
    "adata"
   ]
  },
  {
   "cell_type": "code",
   "execution_count": 15,
   "id": "d63537a3",
   "metadata": {},
   "outputs": [],
   "source": [
    "def translate_ensembl_to_symbol(ensembl_ids):\n",
    "    \"\"\"\n",
    "    Translate Ensembl gene IDs to gene symbols using Ensembl REST API\n",
    "    \n",
    "    Args:\n",
    "        ensembl_ids: List of Ensembl gene IDs (e.g., ['ENSG00000121410', 'ENSG00000148584'])\n",
    "    \n",
    "    Returns:\n",
    "        List of gene symbols in the same order as input IDs (None for failed translations)\n",
    "    \"\"\"\n",
    "    server = \"https://rest.ensembl.org\"\n",
    "    ext = \"/lookup/id\"\n",
    "    headers = {\"Content-Type\": \"application/json\"}\n",
    "    \n",
    "    # Batch query (more efficient than individual requests)\n",
    "    response = requests.post(\n",
    "        f\"{server}{ext}\",\n",
    "        headers=headers,\n",
    "        json={\"ids\": ensembl_ids}\n",
    "    )\n",
    "    \n",
    "    symbol_map = {}\n",
    "    if response.ok:\n",
    "        data = response.json()\n",
    "        for ensembl_id in ensembl_ids:\n",
    "            if ensembl_id in data:\n",
    "                symbol_map[ensembl_id] = data[ensembl_id].get(\"display_name\", None)\n",
    "    \n",
    "    # Return symbols in original order, with None for failed translations\n",
    "    return [symbol_map.get(ensembl_id, None) for ensembl_id in ensembl_ids]"
   ]
  },
  {
   "cell_type": "code",
   "execution_count": null,
   "id": "b75bd302",
   "metadata": {},
   "outputs": [],
   "source": [
    "translated_var_names = []\n",
    "for name in tqdm(adata.var_names.tolist()):\n",
    "    try:\n",
    "        translation = translate_ensembl_to_symbol([name])[0]\n",
    "        if translation is None:\n",
    "            translated_var_names.append(name)\n",
    "        else:\n",
    "            translated_var_names.append(translation)\n",
    "    \n",
    "    except Exception as e:\n",
    "        translated_var_names.append(name)\n",
    "translated_var_names"
   ]
  },
  {
   "cell_type": "code",
   "execution_count": 56,
   "id": "2662f9e3",
   "metadata": {},
   "outputs": [],
   "source": [
    "#save the translated variable names to a file\n",
    "with open(\"output/all_translated_var_names.txt\", \"a\") as f:\n",
    "    for item in translated_var_names:\n",
    "        f.write(item + \"\\n\")"
   ]
  },
  {
   "cell_type": "code",
   "execution_count": 30,
   "id": "4552db9e",
   "metadata": {},
   "outputs": [],
   "source": [
    "# Read the translated variable names from the file\n",
    "with open(\"output/all_translated_var_names.txt\", \"r\") as f:\n",
    "    translated_var_names = [line.strip() for line in f]"
   ]
  },
  {
   "cell_type": "code",
   "execution_count": 10,
   "id": "cbf1d5b9",
   "metadata": {},
   "outputs": [
    {
     "data": {
      "text/plain": [
       "AnnData object with n_obs × n_vars = 205153 × 4000\n",
       "    obs: 'orig.ident', 'nCount_RNA', 'nFeature_RNA', 'Stage_Code', 'Tissue', 'Risk_Category', 'First_Avail_TP', 'MYCN_Status', 'ALK_Status', 'TP53_Status', 'Response', 'Vital_Status', 'Age_at_IDX_in_months', 'Treatment', 'First_Avail_Time_Point', 'sample_name', 'biospecimen_id', 'percent.mt', 'seurat_clusters', 'sample_label_wo_prefix', 'S.Score', 'G2M.Score', 'Phase', 'malignancy', 'cell_state', 'RNA_snn_res.0.2', 'MES_Score', 'ADRN_Score', 'MES_ADRN_diff', 'Event', 'organism_ontology_term_id', 'donor_id', 'development_stage_ontology_term_id', 'sex_ontology_term_id', 'disease_ontology_term_id', 'tissue_type', 'cell_type_ontology_term_id', 'assay_ontology_term_id', 'suspension_type', 'tissue_ontology_term_id', 'self_reported_ethnicity_ontology_term_id', 'is_primary_data', 'cell_type', 'assay', 'disease', 'organism', 'sex', 'tissue', 'self_reported_ethnicity', 'development_stage', 'observation_joinid'\n",
       "    var: 'gene_name', 'vf_vst_counts_mean', 'vf_vst_counts_variance', 'vf_vst_counts_variance.expected', 'vf_vst_counts_variance.standardized', 'vf_vst_counts_variable', 'vf_vst_counts_rank', 'var.features', 'var.features.rank', 'ensembl_id_version', 'feature_is_filtered', 'feature_name', 'feature_reference', 'feature_biotype', 'feature_length', 'feature_type', 'highly_variable', 'means', 'dispersions', 'dispersions_norm'\n",
       "    uns: 'citation', 'schema_reference', 'schema_version', 'title', 'hvg'\n",
       "    obsm: 'X_harmony', 'X_pca', 'X_umap'"
      ]
     },
     "execution_count": 10,
     "metadata": {},
     "output_type": "execute_result"
    }
   ],
   "source": [
    "sc.pp.highly_variable_genes(adata, n_top_genes=4000, flavor=\"seurat\")\n",
    "adata_hvg = adata[:, adata.var[\"highly_variable\"]].copy()\n",
    "adata_hvg"
   ]
  },
  {
   "cell_type": "code",
   "execution_count": 38,
   "id": "5a41bd38",
   "metadata": {},
   "outputs": [
    {
     "name": "stderr",
     "output_type": "stream",
     "text": [
      "C:\\Users\\arthe\\AppData\\Local\\Temp\\ipykernel_16184\\4040296908.py:1: FutureWarning: Series.__getitem__ treating keys as positions is deprecated. In a future version, integer keys will always be treated as labels (consistent with DataFrame behavior). To access a value by position, use `ser.iloc[pos]`\n",
      "  translated_var_names_4000 = [v for i, v in enumerate(translated_var_names) if adata.var[\"highly_variable\"][i] == True]\n"
     ]
    }
   ],
   "source": [
    "translated_var_names_4000 = [v for i, v in enumerate(translated_var_names) if adata.var[\"highly_variable\"][i] == True]"
   ]
  },
  {
   "cell_type": "code",
   "execution_count": 39,
   "id": "d866c3a3",
   "metadata": {},
   "outputs": [
    {
     "name": "stderr",
     "output_type": "stream",
     "text": [
      "c:\\Users\\arthe\\anaconda3\\envs\\scbert_new\\lib\\site-packages\\anndata\\_core\\anndata.py:1754: UserWarning: Observation names are not unique. To make them unique, call `.obs_names_make_unique`.\n",
      "  utils.warn_names_duplicates(\"obs\")\n"
     ]
    },
    {
     "data": {
      "application/vnd.jupyter.widget-view+json": {
       "model_id": "bbe70827008b4028844a051c50d13810",
       "version_major": 2,
       "version_minor": 0
      },
      "text/plain": [
       "0it [00:00, ?it/s]"
      ]
     },
     "metadata": {},
     "output_type": "display_data"
    }
   ],
   "source": [
    "panglao = sc.read_h5ad('./data/panglao_10000.h5ad')\n",
    "data = adata_hvg\n",
    "counts = sparse.lil_matrix((data.X.shape[0], panglao.X.shape[1]), dtype=np.float32)\n",
    "\n",
    "# Convert var_names to lists\n",
    "ref = panglao.var_names.tolist()\n",
    "obj = translated_var_names_4000\n",
    "\n",
    "# Create a dictionary for fast lookup of index\n",
    "obj_index_dict = {gene: idx for idx, gene in enumerate(obj)}\n",
    "\n",
    "# Fill the matrix using the dictionary\n",
    "for i, gene in tqdm(enumerate(ref)):\n",
    "    loc = obj_index_dict.get(gene)\n",
    "    if loc is not None:\n",
    "        counts[:, i] = data.X[:, loc]\n",
    "\n",
    "counts = counts.tocsr()\n",
    "new = AnnData(X=counts)\n",
    "new.var_names = ref\n",
    "new.obs_names = data.obs_names\n",
    "new.obs = data.obs\n",
    "new.uns = panglao.uns"
   ]
  },
  {
   "cell_type": "code",
   "execution_count": 50,
   "id": "b064f1c5",
   "metadata": {},
   "outputs": [],
   "source": [
    "new.write_h5ad('./data/preprocessed_data.h5ad', compression='gzip')"
   ]
  }
 ],
 "metadata": {
  "kernelspec": {
   "display_name": "scbert_new",
   "language": "python",
   "name": "python3"
  },
  "language_info": {
   "codemirror_mode": {
    "name": "ipython",
    "version": 3
   },
   "file_extension": ".py",
   "mimetype": "text/x-python",
   "name": "python",
   "nbconvert_exporter": "python",
   "pygments_lexer": "ipython3",
   "version": "3.9.21"
  }
 },
 "nbformat": 4,
 "nbformat_minor": 5
}
