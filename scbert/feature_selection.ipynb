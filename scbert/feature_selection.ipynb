{
 "cells": [
  {
   "cell_type": "code",
   "execution_count": 1,
   "id": "8609a025",
   "metadata": {},
   "outputs": [],
   "source": [
    "import numpy as np \n",
    "import scanpy as sc\n",
    "from sklearn.feature_selection import VarianceThreshold\n",
    "import matplotlib.pyplot as plt"
   ]
  },
  {
   "cell_type": "code",
   "execution_count": 2,
   "id": "6436e5e0",
   "metadata": {},
   "outputs": [
    {
     "data": {
      "text/plain": [
       "AnnData object with n_obs × n_vars = 36712 × 16906\n",
       "    obs: 'cell1', 'cell2', 'fraction', 'sample', 'cell_ID', 'n_genes', 'leiden'\n",
       "    uns: 'log1p'"
      ]
     },
     "execution_count": 2,
     "metadata": {},
     "output_type": "execute_result"
    }
   ],
   "source": [
    "data = sc.read_h5ad('./data/preprocessed_data.h5ad')\n",
    "data"
   ]
  },
  {
   "cell_type": "code",
   "execution_count": 3,
   "id": "11fd86a2",
   "metadata": {},
   "outputs": [
    {
     "data": {
      "text/plain": [
       "(36712, 16906)"
      ]
     },
     "execution_count": 3,
     "metadata": {},
     "output_type": "execute_result"
    }
   ],
   "source": [
    "data_array = data.X.toarray()\n",
    "data_array.shape"
   ]
  },
  {
   "cell_type": "code",
   "execution_count": 4,
   "id": "bcb954a3",
   "metadata": {},
   "outputs": [],
   "source": [
    "N = 400  # Number of top features to keep"
   ]
  },
  {
   "cell_type": "code",
   "execution_count": null,
   "id": "40b8c46e",
   "metadata": {},
   "outputs": [
    {
     "data": {
      "text/plain": [
       "(36712, 400)"
      ]
     },
     "execution_count": 17,
     "metadata": {},
     "output_type": "execute_result"
    }
   ],
   "source": [
    "# Keep top N features with highest variance\n",
    "variances = np.var(data_array, axis=0)\n",
    "threshold = np.sort(variances)[-N]\n",
    "selector = VarianceThreshold(threshold=threshold) \n",
    "arr_filtered = selector.fit_transform(data_array)\n",
    "arr_filtered.shape"
   ]
  },
  {
   "cell_type": "code",
   "execution_count": null,
   "id": "529952ca",
   "metadata": {},
   "outputs": [
    {
     "data": {
      "text/plain": [
       "(36712, 400)"
      ]
     },
     "execution_count": 22,
     "metadata": {},
     "output_type": "execute_result"
    }
   ],
   "source": [
    "data.X[:, selector.get_support()]"
   ]
  },
  {
   "cell_type": "code",
   "execution_count": null,
   "id": "c36a39f6",
   "metadata": {},
   "outputs": [],
   "source": [
    "low_feature_data = data.copy()\n",
    "low_feature_data = low_feature_data[:, selector.get_support()]\n",
    "low_feature_data.write('./data/low_feature.h5ad')"
   ]
  },
  {
   "cell_type": "code",
   "execution_count": 25,
   "id": "4f74998b",
   "metadata": {},
   "outputs": [
    {
     "data": {
      "text/plain": [
       "AnnData object with n_obs × n_vars = 36712 × 400\n",
       "    obs: 'cell1', 'cell2', 'fraction', 'sample', 'cell_ID', 'n_genes', 'leiden'\n",
       "    uns: 'log1p'"
      ]
     },
     "execution_count": 25,
     "metadata": {},
     "output_type": "execute_result"
    }
   ],
   "source": [
    "low_feature = sc.read_h5ad('./data/low_feature.h5ad')\n",
    "low_feature"
   ]
  }
 ],
 "metadata": {
  "kernelspec": {
   "display_name": "scbert_new",
   "language": "python",
   "name": "python3"
  },
  "language_info": {
   "codemirror_mode": {
    "name": "ipython",
    "version": 3
   },
   "file_extension": ".py",
   "mimetype": "text/x-python",
   "name": "python",
   "nbconvert_exporter": "python",
   "pygments_lexer": "ipython3",
   "version": "3.9.21"
  }
 },
 "nbformat": 4,
 "nbformat_minor": 5
}
