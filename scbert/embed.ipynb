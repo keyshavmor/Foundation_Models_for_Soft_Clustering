{
 "cells": [
  {
   "cell_type": "code",
   "execution_count": 1,
   "id": "55e48b90",
   "metadata": {},
   "outputs": [],
   "source": [
    "import torch\n",
    "from performer_pytorch import PerformerLM\n",
    "import scanpy as sc\n",
    "import anndata as ad\n",
    "from utils import *\n",
    "import pickle as pkl\n",
    "from tqdm.notebook import tqdm\n",
    "import zarr"
   ]
  },
  {
   "cell_type": "code",
   "execution_count": 2,
   "id": "972f9a1b-7d2a-4bfd-881c-898824906c10",
   "metadata": {},
   "outputs": [
    {
     "data": {
      "text/plain": [
       "device(type='cuda')"
      ]
     },
     "execution_count": 2,
     "metadata": {},
     "output_type": "execute_result"
    }
   ],
   "source": [
    "CLASS = 7\n",
    "SEED = 2021\n",
    "EPOCHS = 1\n",
    "SEQ_LEN = 16906 + 1\n",
    "device = torch.device(\"cuda\" if torch.cuda.is_available() else \"cpu\")\n",
    "device"
   ]
  },
  {
   "cell_type": "code",
   "execution_count": 3,
   "id": "007090a9",
   "metadata": {},
   "outputs": [
    {
     "name": "stdout",
     "output_type": "stream",
     "text": [
      "<class 'scipy.sparse._csr.csr_matrix'>\n"
     ]
    },
    {
     "data": {
      "text/plain": [
       "(36712, 400)"
      ]
     },
     "execution_count": 3,
     "metadata": {},
     "output_type": "execute_result"
    }
   ],
   "source": [
    "data_path = 'data/low_feature.h5ad'\n",
    "adata = sc.read_h5ad(data_path)\n",
    "data = adata.X\n",
    "print(type(data))\n",
    "data.shape"
   ]
  },
  {
   "cell_type": "code",
   "execution_count": 7,
   "id": "7e96e759-2a35-4c5b-9bda-053e9891b7f7",
   "metadata": {},
   "outputs": [],
   "source": [
    "model = PerformerLM(\n",
    "    num_tokens = CLASS,\n",
    "    dim = 200,\n",
    "    depth = 6,\n",
    "    max_seq_len = SEQ_LEN,\n",
    "    heads = 10,\n",
    "    local_attn_heads = 0,\n",
    "    g2v_position_emb = True\n",
    ")\n",
    "\n",
    "path = 'model/scbert_pretrain.pth'\n",
    "ckpt = torch.load(path, map_location=torch.device('cpu'))\n",
    "model.load_state_dict(ckpt['model_state_dict'])\n",
    "for param in model.parameters():\n",
    "    param.requires_grad = False\n",
    "model = model.to(device)"
   ]
  },
  {
   "cell_type": "code",
   "execution_count": 8,
   "id": "78c9e709",
   "metadata": {},
   "outputs": [],
   "source": [
    "def scbert_embed(data):\n",
    "    batch_size = data.shape[0]\n",
    "    model.eval()\n",
    "    batch = []\n",
    "    epoch = []\n",
    "    with torch.no_grad():\n",
    "        for index in tqdm(range(batch_size)):\n",
    "            full_seq = data[index].toarray()[0]\n",
    "            full_seq[full_seq > (CLASS - 2)] = CLASS - 2\n",
    "            full_seq = torch.from_numpy(full_seq).long()\n",
    "            full_seq = torch.cat((full_seq, torch.tensor([0]))).to(device)\n",
    "            full_seq = full_seq.unsqueeze(0)\n",
    "            cell_embedding = model(full_seq, return_encodings = True)\n",
    "            batch.append(cell_embedding)\n",
    "            if index % 500 == 0:\n",
    "                #regularly empty GPU of data\n",
    "                epoch.extend([b.cpu() for b in batch])\n",
    "                batch = []\n",
    "        epoch.extend([b.cpu() for b in batch])\n",
    "    embeddings = np.stack([t.numpy().astype(np.float16) for t in epoch])\n",
    "    return embeddings\n",
    "\n",
    "def get_cuts(N, k):\n",
    "    return [i * N // k for i in range(1, k)]"
   ]
  },
  {
   "cell_type": "code",
   "execution_count": null,
   "id": "fbd8a312-6e54-4756-8f50-e69074ec8c70",
   "metadata": {},
   "outputs": [
    {
     "name": "stdout",
     "output_type": "stream",
     "text": [
      "0\n",
      "batch : 0-12237\n"
     ]
    },
    {
     "data": {
      "application/vnd.jupyter.widget-view+json": {
       "model_id": "e8ebf4a8f25c4bfb91ebbb5e4e920d75",
       "version_major": 2,
       "version_minor": 0
      },
      "text/plain": [
       "  0%|          | 0/12237 [00:00<?, ?it/s]"
      ]
     },
     "metadata": {},
     "output_type": "display_data"
    },
    {
     "name": "stdout",
     "output_type": "stream",
     "text": [
      "(12237, 1, 401, 200)\n",
      "1\n",
      "batch : 12237-24474\n"
     ]
    },
    {
     "data": {
      "application/vnd.jupyter.widget-view+json": {
       "model_id": "231ef84710a94e7d85a4bced2aeef2d1",
       "version_major": 2,
       "version_minor": 0
      },
      "text/plain": [
       "  0%|          | 0/12237 [00:00<?, ?it/s]"
      ]
     },
     "metadata": {},
     "output_type": "display_data"
    },
    {
     "name": "stdout",
     "output_type": "stream",
     "text": [
      "(12237, 1, 401, 200)\n",
      "2\n",
      "batch : 24474-36712\n"
     ]
    },
    {
     "data": {
      "application/vnd.jupyter.widget-view+json": {
       "model_id": "0a41b1f19ef3408ca06eaa196ac6a64d",
       "version_major": 2,
       "version_minor": 0
      },
      "text/plain": [
       "  0%|          | 0/12238 [00:00<?, ?it/s]"
      ]
     },
     "metadata": {},
     "output_type": "display_data"
    }
   ],
   "source": [
    "number_of_batch = 3\n",
    "batch_cut = get_cuts(36712, number_of_batch)\n",
    "for i in range(number_of_batch):\n",
    "    print(i)\n",
    "    if i == 0:\n",
    "        batch_data = data[:batch_cut[i]]\n",
    "        print(f'batch : {0}-{batch_cut[i]}')\n",
    "    elif i == len(batch_cut):\n",
    "        batch_data = data[batch_cut[i-1]:]\n",
    "        print(f'batch : {batch_cut[i-1]}-{data.shape[0]}')\n",
    "    else:\n",
    "        batch_data = data[batch_cut[i-1]:batch_cut[i]]\n",
    "        print(f'batch : {batch_cut[i-1]}-{batch_cut[i]}')\n",
    "    embeddings = scbert_embed(batch_data)\n",
    "    print(embeddings.shape)\n",
    "    path = 'data/embeddings_' + str(i) + '.npy'\n",
    "    np.save(path, embeddings)\n",
    "      "
   ]
  }
 ],
 "metadata": {
  "kernelspec": {
   "display_name": "Python 3 (ipykernel)",
   "language": "python",
   "name": "python3"
  },
  "language_info": {
   "codemirror_mode": {
    "name": "ipython",
    "version": 3
   },
   "file_extension": ".py",
   "mimetype": "text/x-python",
   "name": "python",
   "nbconvert_exporter": "python",
   "pygments_lexer": "ipython3",
   "version": "3.10.13"
  }
 },
 "nbformat": 4,
 "nbformat_minor": 5
}
