{
 "cells": [
  {
   "cell_type": "code",
   "execution_count": 6,
   "id": "244d8538",
   "metadata": {},
   "outputs": [],
   "source": [
    "import numpy as np \n",
    "import scanpy as sc\n",
    "from anndata import AnnData\n",
    "from scipy import sparse"
   ]
  },
  {
   "cell_type": "code",
   "execution_count": 13,
   "id": "d96262e3",
   "metadata": {},
   "outputs": [
    {
     "name": "stderr",
     "output_type": "stream",
     "text": [
      "c:\\Users\\arthe\\anaconda3\\envs\\scbert_new\\lib\\site-packages\\anndata\\_core\\anndata.py:1754: UserWarning: Observation names are not unique. To make them unique, call `.obs_names_make_unique`.\n",
      "  utils.warn_names_duplicates(\"obs\")\n"
     ]
    },
    {
     "data": {
      "text/plain": [
       "AnnData object with n_obs × n_vars = 36763 × 25139\n",
       "    obs: 'cell1', 'cell2', 'fraction', 'sample', 'cell_ID', 'n_genes', 'leiden'\n",
       "    var: 'hgnc_symbol', 'ensembl_gene_id', 'gene_biotype', 'n_cells', 'mean', 'std'\n",
       "    uns: 'leiden', 'neighbors', 'pca', 'umap'\n",
       "    obsm: 'X_pca', 'X_umap'\n",
       "    varm: 'PCs'\n",
       "    layers: 'RNA', 'log1p_norm'\n",
       "    obsp: 'connectivities', 'distances'"
      ]
     },
     "execution_count": 13,
     "metadata": {},
     "output_type": "execute_result"
    }
   ],
   "source": [
    "panglao = sc.read_h5ad('./data/panglao_10000.h5ad')\n",
    "data = sc.read_h5ad('./data/NB.bone.Met_preprocessed.h5ad')\n",
    "data.X = data.layers['RNA']\n",
    "data"
   ]
  },
  {
   "cell_type": "code",
   "execution_count": 5,
   "id": "5832c260",
   "metadata": {},
   "outputs": [
    {
     "name": "stdout",
     "output_type": "stream",
     "text": [
      "WARNING: adata.X seems to be already log-transformed.\n"
     ]
    }
   ],
   "source": [
    "counts = sparse.lil_matrix((data.X.shape[0],panglao.X.shape[1]),dtype=np.float32)\n",
    "ref = panglao.var_names.tolist()\n",
    "obj = data.var_names.tolist()\n",
    "\n",
    "for i in range(len(ref)):\n",
    "    if ref[i] in obj:\n",
    "        loc = obj.index(ref[i])\n",
    "        counts[:,i] = data.X[:,loc]\n",
    "\n",
    "counts = counts.tocsr()\n",
    "new = AnnData(X=counts)\n",
    "new.var_names = ref\n",
    "new.obs_names = data.obs_names\n",
    "new.obs = data.obs\n",
    "new.uns = panglao.uns\n",
    "\n",
    "sc.pp.filter_cells(new, min_genes=200)\n",
    "sc.pp.normalize_total(new, target_sum=1e4)\n",
    "sc.pp.log1p(new, base=2)"
   ]
  },
  {
   "cell_type": "code",
   "execution_count": null,
   "id": "7e46b3cf",
   "metadata": {},
   "outputs": [
    {
     "name": "stdout",
     "output_type": "stream",
     "text": [
      "0\n",
      "500\n",
      "1000\n",
      "1500\n",
      "2000\n",
      "2500\n",
      "3000\n",
      "3500\n",
      "4000\n",
      "4500\n",
      "5000\n",
      "5500\n",
      "6000\n",
      "6500\n",
      "7000\n",
      "7500\n",
      "8000\n",
      "8500\n",
      "9000\n",
      "9500\n",
      "10000\n",
      "10500\n",
      "11000\n",
      "11500\n",
      "12000\n",
      "12500\n",
      "13000\n",
      "13500\n",
      "14000\n",
      "14500\n",
      "15000\n",
      "15500\n",
      "16000\n",
      "16500\n",
      "WARNING: adata.X seems to be already log-transformed.\n"
     ]
    }
   ],
   "source": [
    "# Get gene names as numpy arrays (faster than lists)\n",
    "ref_genes = panglao.var_names.values\n",
    "obj_genes = data.var_names.values\n",
    "\n",
    "# Create a mapping from gene name to column index for the query data\n",
    "gene_to_idx = {gene: i for i, gene in enumerate(obj_genes)}\n",
    "\n",
    "# Prepare indices and data for COO matrix construction\n",
    "rows = []\n",
    "cols = []\n",
    "data_vals = []\n",
    "\n",
    "# Build indices for common genes\n",
    "for i, gene in enumerate(ref_genes):\n",
    "    if i % 500 == 0:\n",
    "        print(i)\n",
    "    if gene in gene_to_idx:\n",
    "        # Get all non-zero entries for this gene in data.X\n",
    "        col_in_data = gene_to_idx[gene]\n",
    "        sparse_col = data.X[:, col_in_data]\n",
    "        \n",
    "        if sparse.issparse(sparse_col):\n",
    "            # If it's sparse, get the non-zero entries\n",
    "            sparse_col = sparse_col.tocoo()\n",
    "            rows.extend(sparse_col.row)\n",
    "            cols.extend([i] * len(sparse_col.row))  # i is the column in output matrix\n",
    "            data_vals.extend(sparse_col.data)\n",
    "        else:\n",
    "            # If dense (unlikely), handle differently\n",
    "            non_zero = np.nonzero(sparse_col)[0]\n",
    "            rows.extend(non_zero)\n",
    "            cols.extend([i] * len(non_zero))\n",
    "            data_vals.extend(sparse_col[non_zero])\n",
    "\n",
    "# Create the matrix in COO format (most efficient for construction)\n",
    "counts = sparse.coo_matrix(\n",
    "    (data_vals, (rows, cols)),\n",
    "    shape=(data.X.shape[0], panglao.X.shape[1]),\n",
    "    dtype=np.float32\n",
    ").tocsr()  # Convert to CSR for efficient operations\n",
    "new = AnnData(X=counts)\n",
    "new.var_names = ref\n",
    "new.obs_names = data.obs_names\n",
    "new.obs = data.obs\n",
    "new.uns = panglao.uns\n",
    "\n",
    "sc.pp.filter_cells(new, min_genes=200)\n",
    "sc.pp.normalize_total(new, target_sum=1e4)\n",
    "sc.pp.log1p(new, base=2)\n",
    "#new.write('./data/preprocessed_data.h5ad')"
   ]
  },
  {
   "cell_type": "code",
   "execution_count": 11,
   "id": "bbf87e1c",
   "metadata": {},
   "outputs": [
    {
     "data": {
      "text/plain": [
       "AnnData object with n_obs × n_vars = 36712 × 16906\n",
       "    obs: 'cell1', 'cell2', 'fraction', 'sample', 'cell_ID', 'n_genes', 'leiden'\n",
       "    uns: 'log1p'"
      ]
     },
     "execution_count": 11,
     "metadata": {},
     "output_type": "execute_result"
    }
   ],
   "source": [
    "preprocessed_data = sc.read_h5ad('./data/preprocessed_data.h5ad')\n",
    "preprocessed_data"
   ]
  }
 ],
 "metadata": {
  "kernelspec": {
   "display_name": "scbert_new",
   "language": "python",
   "name": "python3"
  },
  "language_info": {
   "codemirror_mode": {
    "name": "ipython",
    "version": 3
   },
   "file_extension": ".py",
   "mimetype": "text/x-python",
   "name": "python",
   "nbconvert_exporter": "python",
   "pygments_lexer": "ipython3",
   "version": "3.9.21"
  }
 },
 "nbformat": 4,
 "nbformat_minor": 5
}
