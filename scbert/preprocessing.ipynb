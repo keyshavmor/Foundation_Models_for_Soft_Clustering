{
 "cells": [
  {
   "cell_type": "code",
   "execution_count": 1,
   "id": "244d8538",
   "metadata": {},
   "outputs": [],
   "source": [
    "import numpy as np \n",
    "import pandas as pd\n",
    "import scanpy as sc\n",
    "from pathlib import Path\n",
    "import anndata as ad\n",
    "from scipy import sparse"
   ]
  },
  {
   "cell_type": "code",
   "execution_count": 2,
   "id": "d96262e3",
   "metadata": {},
   "outputs": [
    {
     "name": "stderr",
     "output_type": "stream",
     "text": [
      "/home/agauthier/miniconda3/envs/scbert/lib/python3.9/site-packages/anndata/_core/anndata.py:1754: UserWarning: Observation names are not unique. To make them unique, call `.obs_names_make_unique`.\n",
      "  utils.warn_names_duplicates(\"obs\")\n"
     ]
    }
   ],
   "source": [
    "panglao = sc.read_h5ad('./data/panglao_10000.h5ad')\n",
    "data = sc.read_h5ad('./data/subset_data.h5ad')"
   ]
  },
  {
   "cell_type": "code",
   "execution_count": 4,
   "id": "5832c260",
   "metadata": {},
   "outputs": [
    {
     "name": "stdout",
     "output_type": "stream",
     "text": [
      "WARNING: adata.X seems to be already log-transformed.\n"
     ]
    },
    {
     "name": "stderr",
     "output_type": "stream",
     "text": [
      "/home/agauthier/miniconda3/envs/scbert/lib/python3.9/site-packages/scanpy/preprocessing/_simple.py:385: RuntimeWarning: invalid value encountered in log1p\n",
      "  np.log1p(X, out=X)\n"
     ]
    }
   ],
   "source": [
    "counts = sparse.lil_matrix((data.X.shape[0],panglao.X.shape[1]),dtype=np.float32)\n",
    "ref = panglao.var_names.tolist()\n",
    "obj = data.var_names.tolist()\n",
    "\n",
    "for i in range(len(ref)):\n",
    "    if ref[i] in obj:\n",
    "        loc = obj.index(ref[i])\n",
    "        counts[:,i] = data.X[:,loc]\n",
    "\n",
    "counts = counts.tocsr()\n",
    "new = ad.AnnData(X=counts)\n",
    "new.var_names = ref\n",
    "new.obs_names = data.obs_names\n",
    "new.obs = data.obs\n",
    "new.uns = panglao.uns\n",
    "\n",
    "sc.pp.filter_cells(new, min_genes=200)\n",
    "sc.pp.normalize_total(new, target_sum=1e4)\n",
    "sc.pp.log1p(new, base=2)\n",
    "new.write('./data/preprocessed_data.h5ad')"
   ]
  }
 ],
 "metadata": {
  "kernelspec": {
   "display_name": "scbert",
   "language": "python",
   "name": "python3"
  },
  "language_info": {
   "codemirror_mode": {
    "name": "ipython",
    "version": 3
   },
   "file_extension": ".py",
   "mimetype": "text/x-python",
   "name": "python",
   "nbconvert_exporter": "python",
   "pygments_lexer": "ipython3",
   "version": "3.9.21"
  }
 },
 "nbformat": 4,
 "nbformat_minor": 5
}
