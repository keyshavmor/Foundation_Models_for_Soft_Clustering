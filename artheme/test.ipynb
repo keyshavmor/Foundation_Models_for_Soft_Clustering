{
 "cells": [
  {
   "cell_type": "code",
   "execution_count": 1,
   "id": "83199ab8",
   "metadata": {},
   "outputs": [],
   "source": [
    "import numpy as np                   # linear algebra tools\n",
    "import pandas as pd                  # data manipulation\n",
    "import scanpy as sc                  # scRNA-seq tools\n",
    "import anndata as ad                 # scRNA-seq data structures"
   ]
  },
  {
   "cell_type": "code",
   "execution_count": 5,
   "id": "d71de400",
   "metadata": {},
   "outputs": [
    {
     "data": {
      "text/plain": [
       "AnnData object with n_obs × n_vars = 258534 × 2969\n",
       "    obs: 'orig.ident', 'nCount_RNA', 'nFeature_RNA', 'percent_mito', 'Study', 'Assay', 'Platform', 'Sample', 'Patient_No', 'Timepoint', 'INSS_stage', 'MYCN_amplification', 'Gender', 'Risk', 'Cell_condition', 'Cell_type', 'cell', 'n_genes', 'leiden', 'cnv_leiden', 'cnv_score', 'cnv_status', 'Stage_Code', 'Tissue', 'Risk_Category', 'First_Avail_TP', 'MYCN_Status', 'ALK_Status', 'TP53_Status', 'Response', 'Vital_Status', 'Age_at_IDX_in_months', 'Treatment', 'First_Avail_Time_Point', 'sample_name', 'biospecimen_id', 'percent.mt', 'seurat_clusters', 'sample_label_wo_prefix', 'S.Score', 'G2M.Score', 'Phase', 'malignancy', 'cell_state', 'RNA_snn_res.0.2', 'MES_Score', 'ADRN_Score', 'MES_ADRN_diff', 'Event', 'organism_ontology_term_id', 'donor_id', 'development_stage_ontology_term_id', 'sex_ontology_term_id', 'disease_ontology_term_id', 'tissue_type', 'cell_type_ontology_term_id', 'assay_ontology_term_id', 'suspension_type', 'tissue_ontology_term_id', 'self_reported_ethnicity_ontology_term_id', 'is_primary_data', 'cell_type', 'assay', 'disease', 'organism', 'sex', 'tissue', 'self_reported_ethnicity', 'development_stage', 'observation_joinid', 'cell_type_joint', 'SAMPLES_JOINT', 'CELL_TYPE_JOINT', 'STAGE_CODE_JOINT', 'GMM_entropy', 'gmm_cluster', 'kmeans', 'louvain'\n",
       "    var: 'ensembl_id_mapped', 'gene_name', 'highly_variable', 'means', 'dispersions', 'dispersions_norm', 'id_in_vocab'\n",
       "    uns: 'CELL_TYPE_JOINT_colors', 'SAMPLES_JOINT_colors', 'STAGE_CODE_JOINT_colors', 'Stage_Code_colors', 'cell_state_colors', 'cell_type_colors', 'donor_id_colors', 'hvg', 'leiden', 'log1p', 'louvain', 'neighbors', 'pca', 'umap'\n",
       "    obsm: 'GMM_probabilities', 'X_pca_scGPT', 'X_scGPT', 'X_umap_scGPT', 'iPCA_scGPT'\n",
       "    varm: 'PCs'\n",
       "    layers: 'log1p_norm', 'raw_counts'\n",
       "    obsp: 'connectivities', 'distances'"
      ]
     },
     "execution_count": 5,
     "metadata": {},
     "output_type": "execute_result"
    }
   ],
   "source": [
    "DATA_PATH = './resources/embeddings/midpoint_sn_concat_3000.h5ad'\n",
    "adata = sc.read_h5ad(DATA_PATH)\n",
    "adata"
   ]
  },
  {
   "cell_type": "code",
   "execution_count": 6,
   "id": "6fcacfa5",
   "metadata": {},
   "outputs": [
    {
     "data": {
      "text/plain": [
       "View of AnnData object with n_obs × n_vars = 53381 × 2969\n",
       "    obs: 'orig.ident', 'nCount_RNA', 'nFeature_RNA', 'percent_mito', 'Study', 'Assay', 'Platform', 'Sample', 'Patient_No', 'Timepoint', 'INSS_stage', 'MYCN_amplification', 'Gender', 'Risk', 'Cell_condition', 'Cell_type', 'cell', 'n_genes', 'leiden', 'cnv_leiden', 'cnv_score', 'cnv_status', 'Stage_Code', 'Tissue', 'Risk_Category', 'First_Avail_TP', 'MYCN_Status', 'ALK_Status', 'TP53_Status', 'Response', 'Vital_Status', 'Age_at_IDX_in_months', 'Treatment', 'First_Avail_Time_Point', 'sample_name', 'biospecimen_id', 'percent.mt', 'seurat_clusters', 'sample_label_wo_prefix', 'S.Score', 'G2M.Score', 'Phase', 'malignancy', 'cell_state', 'RNA_snn_res.0.2', 'MES_Score', 'ADRN_Score', 'MES_ADRN_diff', 'Event', 'organism_ontology_term_id', 'donor_id', 'development_stage_ontology_term_id', 'sex_ontology_term_id', 'disease_ontology_term_id', 'tissue_type', 'cell_type_ontology_term_id', 'assay_ontology_term_id', 'suspension_type', 'tissue_ontology_term_id', 'self_reported_ethnicity_ontology_term_id', 'is_primary_data', 'cell_type', 'assay', 'disease', 'organism', 'sex', 'tissue', 'self_reported_ethnicity', 'development_stage', 'observation_joinid', 'cell_type_joint', 'SAMPLES_JOINT', 'CELL_TYPE_JOINT', 'STAGE_CODE_JOINT', 'GMM_entropy', 'gmm_cluster', 'kmeans', 'louvain'\n",
       "    var: 'ensembl_id_mapped', 'gene_name', 'highly_variable', 'means', 'dispersions', 'dispersions_norm', 'id_in_vocab'\n",
       "    uns: 'CELL_TYPE_JOINT_colors', 'SAMPLES_JOINT_colors', 'STAGE_CODE_JOINT_colors', 'Stage_Code_colors', 'cell_state_colors', 'cell_type_colors', 'donor_id_colors', 'hvg', 'leiden', 'log1p', 'louvain', 'neighbors', 'pca', 'umap'\n",
       "    obsm: 'GMM_probabilities', 'X_pca_scGPT', 'X_scGPT', 'X_umap_scGPT', 'iPCA_scGPT'\n",
       "    varm: 'PCs'\n",
       "    layers: 'log1p_norm', 'raw_counts'\n",
       "    obsp: 'connectivities', 'distances'"
      ]
     },
     "execution_count": 6,
     "metadata": {},
     "output_type": "execute_result"
    }
   ],
   "source": [
    "adata[adata.obs['cell_state'].isna()]"
   ]
  },
  {
   "cell_type": "code",
   "execution_count": 13,
   "id": "9089c10d",
   "metadata": {},
   "outputs": [
    {
     "data": {
      "text/plain": [
       "NB_7767_1774_REG1___AAACCCACAAAGGCAC-1    PTX\n",
       "NB_7767_1774_REG1___AAACGAAAGTTAACGA-1    PTX\n",
       "NB_7767_1774_REG1___AAACGAAGTCACGACC-1    PTX\n",
       "NB_7767_1774_REG1___AAACGAATCCAAGCAT-1    PTX\n",
       "NB_7767_1774_REG1___AAACGCTAGCACGGAT-1    PTX\n",
       "                                         ... \n",
       "NB_7767_963_REG2___TTCCGTGTCATCAGTG-1     PTX\n",
       "NB_7767_963_REG2___TTCTCTCAGTGAACAT-1     PTX\n",
       "NB_7767_963_REG2___TTTCATGTCATCTCTA-1     PTX\n",
       "NB_7767_963_REG2___TTTGGAGCAGCTCATA-1     PTX\n",
       "NB_7767_963_REG2___TTTGGTTGTCTCAGGC-1     PTX\n",
       "Name: Stage_Code, Length: 205153, dtype: category\n",
       "Categories (2, object): ['DX', 'PTX']"
      ]
     },
     "execution_count": 13,
     "metadata": {},
     "output_type": "execute_result"
    }
   ],
   "source": [
    "adata.obs['Stage_Code']"
   ]
  },
  {
   "cell_type": "code",
   "execution_count": 12,
   "id": "2aab3ade",
   "metadata": {},
   "outputs": [
    {
     "data": {
      "text/plain": [
       "False"
      ]
     },
     "execution_count": 12,
     "metadata": {},
     "output_type": "execute_result"
    }
   ],
   "source": [
    "any(pd.isna(adata.obs['donor_id']))"
   ]
  },
  {
   "cell_type": "code",
   "execution_count": null,
   "id": "67d92859",
   "metadata": {},
   "outputs": [],
   "source": []
  }
 ],
 "metadata": {
  "kernelspec": {
   "display_name": "cancerGPT",
   "language": "python",
   "name": "python3"
  },
  "language_info": {
   "codemirror_mode": {
    "name": "ipython",
    "version": 3
   },
   "file_extension": ".py",
   "mimetype": "text/x-python",
   "name": "python",
   "nbconvert_exporter": "python",
   "pygments_lexer": "ipython3",
   "version": "3.10.16"
  }
 },
 "nbformat": 4,
 "nbformat_minor": 5
}
